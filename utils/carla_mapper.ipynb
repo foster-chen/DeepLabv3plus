{
 "cells": [
  {
   "cell_type": "code",
   "execution_count": 2,
   "metadata": {},
   "outputs": [],
   "source": [
    "import os\n",
    "from webbrowser import get\n",
    "import numpy as np\n",
    "from PIL import Image\n",
    "import matplotlib.pyplot as plt\n",
    "from collections import namedtuple\n",
    "from tqdm.notebook import tqdm_notebook as tqdm\n",
    "from sklearn.model_selection import train_test_split\n",
    "import shutil\n",
    "\n",
    "def get_carla_trainId():\n",
    "    \n",
    "    CarlaClass = namedtuple('CarlaClass', ['carla_name', 'carla_id', 'carla_color', 'train_id', 'cs_id', 'cs_color'])\n",
    "    classes = [\n",
    "        CarlaClass('unlabeled',       0,  (0, 0, 0),       255, 0,  (0, 0, 0)),\n",
    "        CarlaClass('building',        1,  (70, 70, 70),    0,   11, (70, 70, 70)),\n",
    "        CarlaClass('fence',           2,  (100, 40, 40),   1,   13, (190, 153, 153)),\n",
    "        CarlaClass('other',           3,  (55, 90, 80),    255, 0,  (0, 0, 0)),\n",
    "        CarlaClass('pedestrian',      4,  (220, 20, 60),   2,   24, (220, 20, 60)),\n",
    "        CarlaClass('pole',            5,  (153, 153, 153), 3,   17, (153, 153, 153)),\n",
    "        CarlaClass('road line',       6,  (157, 234, 50),  4,   7,  (128, 64, 128)),\n",
    "        CarlaClass('road',            7,  (128, 64, 128),  4,   7,  (128, 64, 128)),\n",
    "        CarlaClass('sidewalk',        8,  (244, 35, 232),  5,   8,  (244, 35, 232)),\n",
    "        CarlaClass('vegetation',      9,  (107, 142, 35),  6,   21, (107, 142, 35)),\n",
    "        CarlaClass('vehicle',         10, (0, 0, 142),     7,   26, (0, 0, 142)),\n",
    "        CarlaClass('wall',            11, (102, 102, 156), 8,   12, (102, 102, 156)),\n",
    "        CarlaClass('traffic sign',    12, (220, 220, 0),   9,   20, (220, 220, 0)),\n",
    "        CarlaClass('sky',             13, (70, 130, 180),  10,  23, (70, 130, 180)),\n",
    "        CarlaClass('ground',          14, (81, 0, 81),     11,  6,  (81, 0, 81)),\n",
    "        CarlaClass('bridge',          15, (150, 100, 100), 12,  15, (150, 100, 100)),\n",
    "        CarlaClass('rail track',      16, (230, 150, 140), 13,  0,  (0, 0, 0)),\n",
    "        CarlaClass('guard rail',      17, (180, 165, 180), 14,  14, (180, 165, 180)),\n",
    "        CarlaClass('traffic light',   18, (250, 170, 30),  15,  19, (250, 170, 30)),\n",
    "        CarlaClass('static',          19, (110, 190, 160), 255, 4,  (0, 0, 0)),\n",
    "        CarlaClass('dynamic',         20, (170, 120, 50),  255, 5,  (111, 74, 0)),\n",
    "        CarlaClass('water',           21, (45, 60, 150),   255, 0,  (0, 0, 0)),\n",
    "        CarlaClass('terrain',         22, (145, 170, 100), 16,  22, (152, 251, 152)),\n",
    "        CarlaClass('general anomaly', 23, (236, 236, 236), 255, 0,  (0, 0, 0)),\n",
    "    ]\n",
    "\n",
    "    return classes\n",
    "\n"
   ]
  },
  {
   "cell_type": "code",
   "execution_count": 2,
   "metadata": {},
   "outputs": [
    {
     "data": {
      "text/plain": [
       "[[0, 0, 0],\n",
       " [70, 70, 70],\n",
       " [100, 40, 40],\n",
       " [55, 90, 80],\n",
       " [220, 20, 60],\n",
       " [153, 153, 153],\n",
       " [157, 234, 50],\n",
       " [128, 64, 128],\n",
       " [244, 35, 232],\n",
       " [107, 142, 35],\n",
       " [0, 0, 142],\n",
       " [102, 102, 156],\n",
       " [220, 220, 0],\n",
       " [70, 130, 180],\n",
       " [81, 0, 81],\n",
       " [150, 100, 100],\n",
       " [230, 150, 140],\n",
       " [180, 165, 180],\n",
       " [250, 170, 30],\n",
       " [110, 190, 160],\n",
       " [170, 120, 50],\n",
       " [45, 60, 150],\n",
       " [145, 170, 100],\n",
       " [236, 236, 236]]"
      ]
     },
     "execution_count": 2,
     "metadata": {},
     "output_type": "execute_result"
    }
   ],
   "source": [
    "carla_map = get_carla_trainId()\n",
    "\n",
    "color_map = [list(c.carla_color) for c in carla_map]\n",
    "color_map"
   ]
  },
  {
   "cell_type": "code",
   "execution_count": 3,
   "metadata": {},
   "outputs": [
    {
     "name": "stdout",
     "output_type": "stream",
     "text": [
      "5786 2481\n"
     ]
    }
   ],
   "source": [
    "delivery_dir = \"/home/gaoha/epe/Delivery/Carla2DarkZurich_v2\"\n",
    "dst_folder_name = \"Carla2DarkZurich\"\n",
    "\n",
    "dst_dir = f\"/home/chenht/datasets/{dst_folder_name}\"\n",
    "\n",
    "if not os.path.isdir(dst_dir):\n",
    "    os.mkdir(dst_dir)\n",
    "\n",
    "if not os.path.isdir(os.path.join(dst_dir, \"train\")):\n",
    "    os.mkdir(os.path.join(dst_dir, \"train\"))\n",
    "\n",
    "if not os.path.isdir(os.path.join(dst_dir, \"val\")):\n",
    "    os.mkdir(os.path.join(dst_dir, \"val\"))\n",
    "\n",
    "if not os.path.isdir(os.path.join(dst_dir, \"train\", \"semantic\")):\n",
    "    os.mkdir(os.path.join(dst_dir, \"train\", \"semantic\"))\n",
    "    \n",
    "if not os.path.isdir(os.path.join(dst_dir, \"train\", \"rgb\")):\n",
    "    os.mkdir(os.path.join(dst_dir, \"train\", \"rgb\"))\n",
    "    \n",
    "if not os.path.isdir(os.path.join(dst_dir, \"val\", \"semantic\")):\n",
    "    os.mkdir(os.path.join(dst_dir, \"val\", \"semantic\"))\n",
    "    \n",
    "if not os.path.isdir(os.path.join(dst_dir, \"val\", \"rgb\")):\n",
    "    os.mkdir(os.path.join(dst_dir, \"val\", \"rgb\"))\n",
    "\n",
    "filenames = os.listdir(delivery_dir)\n",
    "\n",
    "filenames = [filename.split('_rgb')[0] for filename in filenames if 'rgb' in filename]\n",
    "\n",
    "filename_train, filename_val = train_test_split(filenames, test_size=0.3, random_state=42)\n",
    "print(len(filename_train), len(filename_val))"
   ]
  },
  {
   "cell_type": "code",
   "execution_count": 11,
   "metadata": {},
   "outputs": [
    {
     "data": {
      "application/vnd.jupyter.widget-view+json": {
       "model_id": "bed4393227dc4cce8186635356e93492",
       "version_major": 2,
       "version_minor": 0
      },
      "text/plain": [
       "  0%|          | 0/5786 [00:00<?, ?it/s]"
      ]
     },
     "metadata": {},
     "output_type": "display_data"
    }
   ],
   "source": [
    "for filename in tqdm(filename_train):\n",
    "    label = np.array(Image.open(os.path.join(delivery_dir, filename + \"_semantic.png\")))\n",
    "    height, width, _ = label.shape\n",
    "    label = label.reshape(height * width, 3)\n",
    "    new_label = np.zeros((height * width, 1))\n",
    "    for i in range(height * width):\n",
    "        new_label[i] = color_map.index(label[i].tolist())\n",
    "    new_label = new_label.reshape(height, width).astype('uint8')\n",
    "    Image.fromarray(new_label).save(os.path.join(dst_dir, 'train/semantic', filename + '_semantic.png'))\n",
    "    \n",
    "    shutil.copyfile(os.path.join(delivery_dir, filename + '_rgb.png'), os.path.join(dst_dir, 'train/rgb', filename + '_rgb.png'))\n",
    "\n",
    "    \n",
    "for filename in tqdm(filename_val):\n",
    "    label = np.array(Image.open(os.path.join(delivery_dir, filename + \"_semantic.png\")))\n",
    "    height, width, _ = label.shape\n",
    "    label = label.reshape(height * width, 3)\n",
    "    new_label = np.zeros((height * width, 1))\n",
    "    for i in range(height * width):\n",
    "        new_label[i] = color_map.index(label[i].tolist())\n",
    "    new_label = new_label.reshape(height, width).astype('uint8')\n",
    "    Image.fromarray(new_label).save(os.path.join(dst_dir, 'val/semantic', filename + '_semantic.png'))\n",
    "    \n",
    "    shutil.copyfile(os.path.join(delivery_dir, filename + '_rgb.png'), os.path.join(dst_dir, 'val/rgb', filename + '_rgb.png'))\n"
   ]
  },
  {
   "cell_type": "code",
   "execution_count": 12,
   "metadata": {},
   "outputs": [
    {
     "data": {
      "application/vnd.jupyter.widget-view+json": {
       "model_id": "3bc2d7484c7a431dbac452a3b1e691c6",
       "version_major": 2,
       "version_minor": 0
      },
      "text/plain": [
       "  0%|          | 0/1299 [00:00<?, ?it/s]"
      ]
     },
     "metadata": {},
     "output_type": "display_data"
    },
    {
     "name": "stdout",
     "output_type": "stream",
     "text": [
      "0\n"
     ]
    }
   ],
   "source": [
    "from tqdm.notebook import tqdm_notebook as tqdm\n",
    "c = 0\n",
    "dir = \"/home/chenht/datasets/NightLab/train/image/\"\n",
    "filenames = [dir + filename for filename in os.listdir(dir)]\n",
    "# for filename in tqdm(filenames, total=len(filenames)):\n",
    "#     if np.amax(np.array(Image.open(filename))) > 33:\n",
    "#         c += 1\n",
    "# print(c)\n",
    "    \n",
    "len(filenames)"
   ]
  },
  {
   "cell_type": "code",
   "execution_count": 9,
   "metadata": {},
   "outputs": [
    {
     "data": {
      "text/plain": [
       "(8301164,)"
      ]
     },
     "execution_count": 9,
     "metadata": {},
     "output_type": "execute_result"
    }
   ],
   "source": []
  }
 ],
 "metadata": {
  "kernelspec": {
   "display_name": "Python 3.8.13 ('epe': conda)",
   "language": "python",
   "name": "python3"
  },
  "language_info": {
   "codemirror_mode": {
    "name": "ipython",
    "version": 3
   },
   "file_extension": ".py",
   "mimetype": "text/x-python",
   "name": "python",
   "nbconvert_exporter": "python",
   "pygments_lexer": "ipython3",
   "version": "3.8.13"
  },
  "orig_nbformat": 4,
  "vscode": {
   "interpreter": {
    "hash": "44e86f2ffc2be6b2648dbc1979ee1b573b8c85d6cc46bcf29491a1e4c3765f94"
   }
  }
 },
 "nbformat": 4,
 "nbformat_minor": 2
}
